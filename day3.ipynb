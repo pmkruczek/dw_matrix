{
  "nbformat": 4,
  "nbformat_minor": 0,
  "metadata": {
    "colab": {
      "name": "day3.ipynb",
      "provenance": [],
      "collapsed_sections": [],
      "mount_file_id": "1U1rLwWxXyLsFhpIV7o30Xu4ht-Gk27uP",
      "authorship_tag": "ABX9TyMvCgyEPPR0i2RACZvmozy7",
      "include_colab_link": true
    },
    "kernelspec": {
      "name": "python3",
      "display_name": "Python 3"
    }
  },
  "cells": [
    {
      "cell_type": "markdown",
      "metadata": {
        "id": "view-in-github",
        "colab_type": "text"
      },
      "source": [
        "<a href=\"https://colab.research.google.com/github/pmkruczek/dw_matrix/blob/master/day3.ipynb\" target=\"_parent\"><img src=\"https://colab.research.google.com/assets/colab-badge.svg\" alt=\"Open In Colab\"/></a>"
      ]
    },
    {
      "cell_type": "code",
      "metadata": {
        "id": "VGmeDvMfldFw",
        "colab_type": "code",
        "colab": {}
      },
      "source": [
        "#!pip install datadotworld\n",
        "#!pip install datadotworld[pandas]"
      ],
      "execution_count": 0,
      "outputs": []
    },
    {
      "cell_type": "code",
      "metadata": {
        "id": "ubQbxL_Fmsjk",
        "colab_type": "code",
        "outputId": "049bd094-afc3-45d5-89b3-06093b9f5db4",
        "colab": {
          "base_uri": "https://localhost:8080/",
          "height": 197
        }
      },
      "source": [
        "#!dw configure"
      ],
      "execution_count": 43,
      "outputs": [
        {
          "output_type": "stream",
          "text": [
            "API token (obtained at: https://data.world/settings/advanced): Aborted!\n",
            "Exception ignored in: <module 'threading' from '/usr/lib/python3.6/threading.py'>\n",
            "Traceback (most recent call last):\n",
            "  File \"/usr/lib/python3.6/threading.py\", line 1292, in _shutdown\n",
            "    t = _pickSomeNonDaemonThread()\n",
            "  File \"/usr/lib/python3.6/threading.py\", line 1298, in _pickSomeNonDaemonThread\n",
            "    for t in enumerate():\n",
            "  File \"/usr/lib/python3.6/threading.py\", line 1268, in enumerate\n",
            "    with _active_limbo_lock:\n",
            "KeyboardInterrupt: \n"
          ],
          "name": "stdout"
        }
      ]
    },
    {
      "cell_type": "code",
      "metadata": {
        "id": "5jlqam6imKUS",
        "colab_type": "code",
        "colab": {}
      },
      "source": [
        "from google.colab import drive\n",
        "import pandas as pd\n",
        "import numpy as np\n",
        "import datadotworld as dw"
      ],
      "execution_count": 0,
      "outputs": []
    },
    {
      "cell_type": "code",
      "metadata": {
        "id": "7c_Tjpb1mIF7",
        "colab_type": "code",
        "colab": {}
      },
      "source": [
        "#drive.mount(\"/content/drive\")"
      ],
      "execution_count": 0,
      "outputs": []
    },
    {
      "cell_type": "code",
      "metadata": {
        "id": "G7Ca0FBgmIrC",
        "colab_type": "code",
        "outputId": "5173aee0-398c-4d5c-802f-7c12a8f6a2d2",
        "colab": {
          "base_uri": "https://localhost:8080/",
          "height": 35
        }
      },
      "source": [
        "cd \"drive/My Drive/Colab Notebooks/dw_matrix\""
      ],
      "execution_count": 4,
      "outputs": [
        {
          "output_type": "stream",
          "text": [
            "/content/drive/My Drive/Colab Notebooks/dw_matrix\n"
          ],
          "name": "stdout"
        }
      ]
    },
    {
      "cell_type": "code",
      "metadata": {
        "id": "grnKNKxknJ-H",
        "colab_type": "code",
        "outputId": "30c24ece-807f-4f6d-82eb-ac7af788fb5b",
        "colab": {
          "base_uri": "https://localhost:8080/",
          "height": 35
        }
      },
      "source": [
        "ls"
      ],
      "execution_count": 5,
      "outputs": [
        {
          "output_type": "stream",
          "text": [
            "\u001b[0m\u001b[01;34mdata\u001b[0m/  HelloGithub.ipynb  LICENSE  \u001b[01;34mmatrix_one\u001b[0m/  README.md\n"
          ],
          "name": "stdout"
        }
      ]
    },
    {
      "cell_type": "code",
      "metadata": {
        "id": "kL1sT-GfnLWO",
        "colab_type": "code",
        "outputId": "db27098f-cb25-4879-f151-2ee8016c57de",
        "colab": {
          "base_uri": "https://localhost:8080/",
          "height": 35
        }
      },
      "source": [
        "ls matrix_one"
      ],
      "execution_count": 6,
      "outputs": [
        {
          "output_type": "stream",
          "text": [
            "day3.ipynb\n"
          ],
          "name": "stdout"
        }
      ]
    },
    {
      "cell_type": "code",
      "metadata": {
        "id": "CcsJJ9McnPvF",
        "colab_type": "code",
        "colab": {
          "base_uri": "https://localhost:8080/",
          "height": 35
        },
        "outputId": "69dbdee7-2fa7-499b-a8e1-3f0ae2a63c7d"
      },
      "source": [
        "!mkdir data"
      ],
      "execution_count": 7,
      "outputs": [
        {
          "output_type": "stream",
          "text": [
            "mkdir: cannot create directory ‘data’: File exists\n"
          ],
          "name": "stdout"
        }
      ]
    },
    {
      "cell_type": "code",
      "metadata": {
        "id": "AyaDbsUMnSgq",
        "colab_type": "code",
        "colab": {}
      },
      "source": [
        "!echo 'data' > .gitignore"
      ],
      "execution_count": 0,
      "outputs": []
    },
    {
      "cell_type": "code",
      "metadata": {
        "id": "A9cxOLD_nf1i",
        "colab_type": "code",
        "colab": {}
      },
      "source": [
        "!git add .gitignore"
      ],
      "execution_count": 0,
      "outputs": []
    },
    {
      "cell_type": "code",
      "metadata": {
        "id": "jaR0G-6jnt7J",
        "colab_type": "code",
        "colab": {}
      },
      "source": [
        "data=dw.load_dataset('datafiniti/mens-shoe-prices')"
      ],
      "execution_count": 0,
      "outputs": []
    },
    {
      "cell_type": "code",
      "metadata": {
        "id": "LszGY0nWj8OX",
        "colab_type": "code",
        "colab": {
          "base_uri": "https://localhost:8080/",
          "height": 127
        },
        "outputId": "3e23db46-f5f2-49bd-80bb-8be745653700"
      },
      "source": [
        "df=data.dataframes['7004_1']\n",
        "df.shape"
      ],
      "execution_count": 12,
      "outputs": [
        {
          "output_type": "stream",
          "text": [
            "/usr/local/lib/python3.6/dist-packages/datadotworld/models/dataset.py:209: UserWarning: Unable to set data frame dtypes automatically using 7004_1 schema. Data types may need to be adjusted manually. Error: Integer column has NA values in column 10\n",
            "  'Error: {}'.format(resource_name, e))\n",
            "/usr/local/lib/python3.6/dist-packages/datadotworld/util.py:121: DtypeWarning: Columns (39,45) have mixed types. Specify dtype option on import or set low_memory=False.\n",
            "  return self._loader_func()\n"
          ],
          "name": "stderr"
        },
        {
          "output_type": "execute_result",
          "data": {
            "text/plain": [
              "(19387, 48)"
            ]
          },
          "metadata": {
            "tags": []
          },
          "execution_count": 12
        }
      ]
    },
    {
      "cell_type": "code",
      "metadata": {
        "id": "stJBUZiij_cv",
        "colab_type": "code",
        "colab": {
          "base_uri": "https://localhost:8080/",
          "height": 581
        },
        "outputId": "68b209eb-a481-4271-f631-ed8b11064977"
      },
      "source": [
        "df.sample(5)"
      ],
      "execution_count": 13,
      "outputs": [
        {
          "output_type": "execute_result",
          "data": {
            "text/html": [
              "<div>\n",
              "<style scoped>\n",
              "    .dataframe tbody tr th:only-of-type {\n",
              "        vertical-align: middle;\n",
              "    }\n",
              "\n",
              "    .dataframe tbody tr th {\n",
              "        vertical-align: top;\n",
              "    }\n",
              "\n",
              "    .dataframe thead th {\n",
              "        text-align: right;\n",
              "    }\n",
              "</style>\n",
              "<table border=\"1\" class=\"dataframe\">\n",
              "  <thead>\n",
              "    <tr style=\"text-align: right;\">\n",
              "      <th></th>\n",
              "      <th>id</th>\n",
              "      <th>asins</th>\n",
              "      <th>brand</th>\n",
              "      <th>categories</th>\n",
              "      <th>colors</th>\n",
              "      <th>count</th>\n",
              "      <th>dateadded</th>\n",
              "      <th>dateupdated</th>\n",
              "      <th>descriptions</th>\n",
              "      <th>dimension</th>\n",
              "      <th>ean</th>\n",
              "      <th>features</th>\n",
              "      <th>flavors</th>\n",
              "      <th>imageurls</th>\n",
              "      <th>isbn</th>\n",
              "      <th>keys</th>\n",
              "      <th>manufacturer</th>\n",
              "      <th>manufacturernumber</th>\n",
              "      <th>merchants</th>\n",
              "      <th>name</th>\n",
              "      <th>prices_amountmin</th>\n",
              "      <th>prices_amountmax</th>\n",
              "      <th>prices_availability</th>\n",
              "      <th>prices_color</th>\n",
              "      <th>prices_condition</th>\n",
              "      <th>prices_count</th>\n",
              "      <th>prices_currency</th>\n",
              "      <th>prices_dateadded</th>\n",
              "      <th>prices_dateseen</th>\n",
              "      <th>prices_flavor</th>\n",
              "      <th>prices_issale</th>\n",
              "      <th>prices_merchant</th>\n",
              "      <th>prices_offer</th>\n",
              "      <th>prices_returnpolicy</th>\n",
              "      <th>prices_shipping</th>\n",
              "      <th>prices_size</th>\n",
              "      <th>prices_source</th>\n",
              "      <th>prices_sourceurls</th>\n",
              "      <th>prices_warranty</th>\n",
              "      <th>quantities</th>\n",
              "      <th>reviews</th>\n",
              "      <th>sizes</th>\n",
              "      <th>skus</th>\n",
              "      <th>sourceurls</th>\n",
              "      <th>upc</th>\n",
              "      <th>vin</th>\n",
              "      <th>websiteids</th>\n",
              "      <th>weight</th>\n",
              "    </tr>\n",
              "  </thead>\n",
              "  <tbody>\n",
              "    <tr>\n",
              "      <th>10283</th>\n",
              "      <td>AVpfTOydilAPnD_xZJg6</td>\n",
              "      <td>NaN</td>\n",
              "      <td>Tsubo</td>\n",
              "      <td>Clothing, Shoes &amp; Accessories,Men's Shoes,Athl...</td>\n",
              "      <td>Light Gray</td>\n",
              "      <td>NaN</td>\n",
              "      <td>2016-04-02T00:18:57Z</td>\n",
              "      <td>2016-04-02T00:18:57Z</td>\n",
              "      <td>NaN</td>\n",
              "      <td>NaN</td>\n",
              "      <td>8.872781e+11</td>\n",
              "      <td>[{\"key\":\"Style\",\"value\":[\"Fashion Sneakers\"]},...</td>\n",
              "      <td>NaN</td>\n",
              "      <td>http://i.ebayimg.com/images/g/oZkAAOSwI3RW8zrG...</td>\n",
              "      <td>NaN</td>\n",
              "      <td>887278070788,0887278070788,tsubo5612newmensgra...</td>\n",
              "      <td>NaN</td>\n",
              "      <td>NaN</td>\n",
              "      <td>[{\"dateSeen\":[\"2016-04-01T00:00:00Z\"],\"name\":\"...</td>\n",
              "      <td>Tsubo 5612 New Mens Gray Leather Lace Up Fashi...</td>\n",
              "      <td>19.99</td>\n",
              "      <td>19.99</td>\n",
              "      <td>NaN</td>\n",
              "      <td>NaN</td>\n",
              "      <td>New with box</td>\n",
              "      <td>NaN</td>\n",
              "      <td>USD</td>\n",
              "      <td>2016-04-02T00:18:57Z</td>\n",
              "      <td>2016-04-01T00:00:00Z</td>\n",
              "      <td>NaN</td>\n",
              "      <td>false</td>\n",
              "      <td>NaN</td>\n",
              "      <td>winning bid</td>\n",
              "      <td>NaN</td>\n",
              "      <td>USD 9.99</td>\n",
              "      <td>NaN</td>\n",
              "      <td>NaN</td>\n",
              "      <td>http://www.ebay.com/itm/TSUBO-5612-NEW-Mens-Gr...</td>\n",
              "      <td>NaN</td>\n",
              "      <td>NaN</td>\n",
              "      <td>NaN</td>\n",
              "      <td>7</td>\n",
              "      <td>[{\"sourceURLs\":[\"http://www.ebay.com/itm/TSUBO...</td>\n",
              "      <td>http://www.ebay.com/itm/TSUBO-5612-NEW-Mens-Gr...</td>\n",
              "      <td>887278070788</td>\n",
              "      <td>NaN</td>\n",
              "      <td>NaN</td>\n",
              "      <td>NaN</td>\n",
              "    </tr>\n",
              "    <tr>\n",
              "      <th>2421</th>\n",
              "      <td>AVpe8Trq1cnluZ0-aW4H</td>\n",
              "      <td>NaN</td>\n",
              "      <td>Jewelry Adviser Gifts</td>\n",
              "      <td>Men's Jewelry,Men's Rings,Clothing, Shoes &amp; Je...</td>\n",
              "      <td>NaN</td>\n",
              "      <td>NaN</td>\n",
              "      <td>2016-01-01T02:16:43Z</td>\n",
              "      <td>2016-03-30T21:56:01Z</td>\n",
              "      <td>NaN</td>\n",
              "      <td>1 in x 7 in x 5 in</td>\n",
              "      <td>NaN</td>\n",
              "      <td>NaN</td>\n",
              "      <td>NaN</td>\n",
              "      <td>http://c.shld.net/rpx/i/s/pi/mp/6140/prod_2859...</td>\n",
              "      <td>NaN</td>\n",
              "      <td>jewelryadvisergifts/gm2166,jewelryadvisergifts...</td>\n",
              "      <td>NaN</td>\n",
              "      <td>GM2166</td>\n",
              "      <td>NaN</td>\n",
              "      <td>Jewelry Adviser Gifts Silver-tone I-player Mp3...</td>\n",
              "      <td>268.32</td>\n",
              "      <td>268.32</td>\n",
              "      <td>NaN</td>\n",
              "      <td>NaN</td>\n",
              "      <td>NaN</td>\n",
              "      <td>NaN</td>\n",
              "      <td>USD</td>\n",
              "      <td>2016-01-01T02:16:43Z</td>\n",
              "      <td>2016-03-30T00:00:00Z</td>\n",
              "      <td>NaN</td>\n",
              "      <td>false</td>\n",
              "      <td>JewelryAdviser</td>\n",
              "      <td>NaN</td>\n",
              "      <td>NaN</td>\n",
              "      <td>NaN</td>\n",
              "      <td>NaN</td>\n",
              "      <td>NaN</td>\n",
              "      <td>http://www.sears.com/content/pdp/products/pric...</td>\n",
              "      <td>NaN</td>\n",
              "      <td>NaN</td>\n",
              "      <td>NaN</td>\n",
              "      <td>NaN</td>\n",
              "      <td>[{\"sourceURLs\":[\"http://www.sears.com/content/...</td>\n",
              "      <td>http://www.sears.com/content/pdp/config/produc...</td>\n",
              "      <td>NaN</td>\n",
              "      <td>NaN</td>\n",
              "      <td>NaN</td>\n",
              "      <td>NaN</td>\n",
              "    </tr>\n",
              "    <tr>\n",
              "      <th>1556</th>\n",
              "      <td>AVpfTHW8ilAPnD_xZHGj</td>\n",
              "      <td>NaN</td>\n",
              "      <td>My Team</td>\n",
              "      <td>Men's Sandals,Shoes,Men's Shoes,Clothing</td>\n",
              "      <td>NaN</td>\n",
              "      <td>NaN</td>\n",
              "      <td>2016-11-11T09:58:15Z</td>\n",
              "      <td>2016-11-11T09:58:15Z</td>\n",
              "      <td>[{\"dateSeen\":[\"2016-11-11T09:58:15Z\"],\"sourceU...</td>\n",
              "      <td>NaN</td>\n",
              "      <td>6.090159e+11</td>\n",
              "      <td>[{\"key\":\"Size\",\"value\":[\"L - Womens 8-9-Mens 7...</td>\n",
              "      <td>NaN</td>\n",
              "      <td>https://i5.walmartimages.com/asr/88bef34d-3d0c...</td>\n",
              "      <td>NaN</td>\n",
              "      <td>0609015939765,609015939765</td>\n",
              "      <td>My Team</td>\n",
              "      <td>NaN</td>\n",
              "      <td>[{\"dateSeen\":[\"2016-11-11T09:58:15Z\"],\"name\":\"...</td>\n",
              "      <td>Nebraska Cornhuskers Velcro Slide Sandals Red</td>\n",
              "      <td>10.89</td>\n",
              "      <td>10.89</td>\n",
              "      <td>NaN</td>\n",
              "      <td>NaN</td>\n",
              "      <td>new</td>\n",
              "      <td>NaN</td>\n",
              "      <td>USD</td>\n",
              "      <td>2016-11-11T09:58:15Z</td>\n",
              "      <td>2016-10-31T00:00:00Z</td>\n",
              "      <td>NaN</td>\n",
              "      <td>false</td>\n",
              "      <td>myteamplanet - Walmart.com</td>\n",
              "      <td>NaN</td>\n",
              "      <td>NaN</td>\n",
              "      <td>NaN</td>\n",
              "      <td>NaN</td>\n",
              "      <td>NaN</td>\n",
              "      <td>https://www.walmart.com/ip/Nebraska-Cornhusker...</td>\n",
              "      <td>NaN</td>\n",
              "      <td>NaN</td>\n",
              "      <td>NaN</td>\n",
              "      <td>NaN</td>\n",
              "      <td>NaN</td>\n",
              "      <td>https://www.walmart.com/ip/Nebraska-Cornhusker...</td>\n",
              "      <td>609015939765</td>\n",
              "      <td>NaN</td>\n",
              "      <td>NaN</td>\n",
              "      <td>NaN</td>\n",
              "    </tr>\n",
              "    <tr>\n",
              "      <th>12510</th>\n",
              "      <td>AVpfeCWBLJeJML439vVK</td>\n",
              "      <td>NaN</td>\n",
              "      <td>Dr. Martens</td>\n",
              "      <td>Clothing,Shoes,Men's Shoes,All Men's Shoes</td>\n",
              "      <td>Gaucho</td>\n",
              "      <td>NaN</td>\n",
              "      <td>2017-01-24T18:54:03Z</td>\n",
              "      <td>2017-01-24T18:54:03Z</td>\n",
              "      <td>[{\"dateSeen\":[\"2017-01-24T18:54:02Z\"],\"sourceU...</td>\n",
              "      <td>NaN</td>\n",
              "      <td>8.839853e+11</td>\n",
              "      <td>[{\"key\":\"Gender\",\"value\":[\"Men\"]},{\"key\":\"Bran...</td>\n",
              "      <td>NaN</td>\n",
              "      <td>https://i5.walmartimages.com/asr/308420a1-9edc...</td>\n",
              "      <td>NaN</td>\n",
              "      <td>0883985322714,883985322714</td>\n",
              "      <td>Dr. Martens</td>\n",
              "      <td>NaN</td>\n",
              "      <td>[{\"dateSeen\":[\"2017-01-24T18:54:03Z\"],\"name\":\"...</td>\n",
              "      <td>Dr. Martens Men Holkham Ns Hiker Boots 12 Uk /...</td>\n",
              "      <td>135.00</td>\n",
              "      <td>135.00</td>\n",
              "      <td>NaN</td>\n",
              "      <td>NaN</td>\n",
              "      <td>new</td>\n",
              "      <td>NaN</td>\n",
              "      <td>USD</td>\n",
              "      <td>2017-01-24T18:54:03Z</td>\n",
              "      <td>2017-01-23T00:00:00Z</td>\n",
              "      <td>NaN</td>\n",
              "      <td>false</td>\n",
              "      <td>Shopping Blitz - Walmart.com</td>\n",
              "      <td>NaN</td>\n",
              "      <td>NaN</td>\n",
              "      <td>NaN</td>\n",
              "      <td>NaN</td>\n",
              "      <td>NaN</td>\n",
              "      <td>https://www.walmart.com/ip/Dr-Martens-Men-Holk...</td>\n",
              "      <td>NaN</td>\n",
              "      <td>NaN</td>\n",
              "      <td>NaN</td>\n",
              "      <td>NaN</td>\n",
              "      <td>NaN</td>\n",
              "      <td>https://www.walmart.com/ip/Dr-Martens-Men-Holk...</td>\n",
              "      <td>883985322714</td>\n",
              "      <td>NaN</td>\n",
              "      <td>NaN</td>\n",
              "      <td>NaN</td>\n",
              "    </tr>\n",
              "    <tr>\n",
              "      <th>14984</th>\n",
              "      <td>AVpfZa621cnluZ0-kDmD</td>\n",
              "      <td>B0002TW2IW,B0006LJ5KO</td>\n",
              "      <td>Gold Toe</td>\n",
              "      <td>Clothing,Clothing &amp; Accessories,Men,Active,Soc...</td>\n",
              "      <td>White,Black</td>\n",
              "      <td>NaN</td>\n",
              "      <td>2015-12-02T00:29:25Z</td>\n",
              "      <td>2016-08-29T19:24:50Z</td>\n",
              "      <td>[{\"dateSeen\":[\"2016-08-29T19:24:50Z\"],\"sourceU...</td>\n",
              "      <td>NaN</td>\n",
              "      <td>NaN</td>\n",
              "      <td>[{\"key\":\"amazonBestSellersRank\",\"value\":[\"342\"]}]</td>\n",
              "      <td>NaN</td>\n",
              "      <td>https://images-na.ssl-images-amazon.com/images...</td>\n",
              "      <td>NaN</td>\n",
              "      <td>goldtoe/656p,goldtoemenscottonquarterathletics...</td>\n",
              "      <td>Gold Toe</td>\n",
              "      <td>656P</td>\n",
              "      <td>[{\"dateSeen\":[\"2016-08-28T00:00:00Z\"],\"name\":\"...</td>\n",
              "      <td>Gold Toe Men's Cotton Quarter Athletic Sock Si...</td>\n",
              "      <td>15.0</td>\n",
              "      <td>36.9</td>\n",
              "      <td>NaN</td>\n",
              "      <td>NaN</td>\n",
              "      <td>NaN</td>\n",
              "      <td>NaN</td>\n",
              "      <td>USD</td>\n",
              "      <td>2015-12-02T00:29:25Z</td>\n",
              "      <td>2015-10-06T00:00:00Z</td>\n",
              "      <td>NaN</td>\n",
              "      <td>false</td>\n",
              "      <td>NaN</td>\n",
              "      <td>NaN</td>\n",
              "      <td>NaN</td>\n",
              "      <td>FREE Returns on some sizes and colors.</td>\n",
              "      <td>NaN</td>\n",
              "      <td>NaN</td>\n",
              "      <td>http://www.amazon.com/Gold-Toe-Cotton-Quarter-...</td>\n",
              "      <td>NaN</td>\n",
              "      <td>NaN</td>\n",
              "      <td>[{\"dateAdded\":\"2015-12-02T00:29:25Z\",\"dateSeen...</td>\n",
              "      <td>13-15</td>\n",
              "      <td>NaN</td>\n",
              "      <td>https://www.amazon.ca/Gold-Toe-Quarter-Athleti...</td>\n",
              "      <td>NaN</td>\n",
              "      <td>NaN</td>\n",
              "      <td>NaN</td>\n",
              "      <td>399 g</td>\n",
              "    </tr>\n",
              "  </tbody>\n",
              "</table>\n",
              "</div>"
            ],
            "text/plain": [
              "                         id                  asins  ... websiteids weight\n",
              "10283  AVpfTOydilAPnD_xZJg6                    NaN  ...        NaN    NaN\n",
              "2421   AVpe8Trq1cnluZ0-aW4H                    NaN  ...        NaN    NaN\n",
              "1556   AVpfTHW8ilAPnD_xZHGj                    NaN  ...        NaN    NaN\n",
              "12510  AVpfeCWBLJeJML439vVK                    NaN  ...        NaN    NaN\n",
              "14984  AVpfZa621cnluZ0-kDmD  B0002TW2IW,B0006LJ5KO  ...        NaN  399 g\n",
              "\n",
              "[5 rows x 48 columns]"
            ]
          },
          "metadata": {
            "tags": []
          },
          "execution_count": 13
        }
      ]
    },
    {
      "cell_type": "code",
      "metadata": {
        "id": "8lPXPrCYkIW2",
        "colab_type": "code",
        "colab": {
          "base_uri": "https://localhost:8080/",
          "height": 233
        },
        "outputId": "d1686458-2a77-4ccc-e008-27528f376d12"
      },
      "source": [
        "df.columns"
      ],
      "execution_count": 14,
      "outputs": [
        {
          "output_type": "execute_result",
          "data": {
            "text/plain": [
              "Index(['id', 'asins', 'brand', 'categories', 'colors', 'count', 'dateadded',\n",
              "       'dateupdated', 'descriptions', 'dimension', 'ean', 'features',\n",
              "       'flavors', 'imageurls', 'isbn', 'keys', 'manufacturer',\n",
              "       'manufacturernumber', 'merchants', 'name', 'prices_amountmin',\n",
              "       'prices_amountmax', 'prices_availability', 'prices_color',\n",
              "       'prices_condition', 'prices_count', 'prices_currency',\n",
              "       'prices_dateadded', 'prices_dateseen', 'prices_flavor', 'prices_issale',\n",
              "       'prices_merchant', 'prices_offer', 'prices_returnpolicy',\n",
              "       'prices_shipping', 'prices_size', 'prices_source', 'prices_sourceurls',\n",
              "       'prices_warranty', 'quantities', 'reviews', 'sizes', 'skus',\n",
              "       'sourceurls', 'upc', 'vin', 'websiteids', 'weight'],\n",
              "      dtype='object')"
            ]
          },
          "metadata": {
            "tags": []
          },
          "execution_count": 14
        }
      ]
    },
    {
      "cell_type": "code",
      "metadata": {
        "id": "Lnqd8hvQkLMv",
        "colab_type": "code",
        "colab": {
          "base_uri": "https://localhost:8080/",
          "height": 107
        },
        "outputId": "7d9bdd2d-4a18-49d6-d1ef-0e4e3eff694c"
      },
      "source": [
        "df.prices_currency.unique()"
      ],
      "execution_count": 15,
      "outputs": [
        {
          "output_type": "execute_result",
          "data": {
            "text/plain": [
              "array(['USD', 'AUD', 'CAD', 'EUR', nan, 'GBP', 'New with box',\n",
              "       'UnbeatableSale.com, Inc. - Walmart.com',\n",
              "       'PalmBeach Jewelry - Walmart.com', 'new', 'New without tags',\n",
              "       'SHOEBACCA LTD. - Walmart.com', 'Shoes.com',\n",
              "       'Wholesale Costume and Party Supplies - Walmart.com'], dtype=object)"
            ]
          },
          "metadata": {
            "tags": []
          },
          "execution_count": 15
        }
      ]
    },
    {
      "cell_type": "code",
      "metadata": {
        "id": "z5gNtJQukRFt",
        "colab_type": "code",
        "colab": {
          "base_uri": "https://localhost:8080/",
          "height": 269
        },
        "outputId": "f9a4d0e1-ed85-4004-cd22-5f1349ff98b5"
      },
      "source": [
        "df.prices_currency.value_counts(normalize=True)"
      ],
      "execution_count": 18,
      "outputs": [
        {
          "output_type": "execute_result",
          "data": {
            "text/plain": [
              "USD                                                   0.959246\n",
              "AUD                                                   0.017503\n",
              "CAD                                                   0.015691\n",
              "EUR                                                   0.005541\n",
              "GBP                                                   0.001139\n",
              "PalmBeach Jewelry - Walmart.com                       0.000155\n",
              "New with box                                          0.000155\n",
              "new                                                   0.000155\n",
              "UnbeatableSale.com, Inc. - Walmart.com                0.000155\n",
              "Wholesale Costume and Party Supplies - Walmart.com    0.000104\n",
              "Shoes.com                                             0.000052\n",
              "SHOEBACCA LTD. - Walmart.com                          0.000052\n",
              "New without tags                                      0.000052\n",
              "Name: prices_currency, dtype: float64"
            ]
          },
          "metadata": {
            "tags": []
          },
          "execution_count": 18
        }
      ]
    },
    {
      "cell_type": "code",
      "metadata": {
        "id": "i64BR0zeka-k",
        "colab_type": "code",
        "colab": {}
      },
      "source": [
        "df_usd=df[df.prices_currency=='USD'].copy()"
      ],
      "execution_count": 0,
      "outputs": []
    },
    {
      "cell_type": "code",
      "metadata": {
        "id": "2w4aQQS6kqXu",
        "colab_type": "code",
        "colab": {
          "base_uri": "https://localhost:8080/",
          "height": 284
        },
        "outputId": "11f915d5-4a13-4119-bf32-26aceee613f1"
      },
      "source": [
        "df_usd['prices_amountmin']=df_usd.prices_amountmin.astype(np.float)\n",
        "df_usd['prices_amountmin'].hist(bins=1000)"
      ],
      "execution_count": 28,
      "outputs": [
        {
          "output_type": "execute_result",
          "data": {
            "text/plain": [
              "<matplotlib.axes._subplots.AxesSubplot at 0x7fbe9cc20748>"
            ]
          },
          "metadata": {
            "tags": []
          },
          "execution_count": 28
        },
        {
          "output_type": "display_data",
          "data": {
            "image/png": "[encoded data removed]",
            "text/plain": [
              "<Figure size 432x288 with 1 Axes>"
            ]
          },
          "metadata": {
            "tags": []
          }
        }
      ]
    },
    {
      "cell_type": "code",
      "metadata": {
        "id": "snYxg7lhlVi2",
        "colab_type": "code",
        "colab": {}
      },
      "source": [
        "filter_max=np.percentile(df_usd['prices_amountmin'],99)"
      ],
      "execution_count": 0,
      "outputs": []
    },
    {
      "cell_type": "code",
      "metadata": {
        "id": "FDU5i2kYler9",
        "colab_type": "code",
        "colab": {}
      },
      "source": [
        "df_usd_filter=df_usd[df_usd['prices_amountmin']<filter_max]"
      ],
      "execution_count": 0,
      "outputs": []
    },
    {
      "cell_type": "code",
      "metadata": {
        "id": "V5FhCtvFlqvv",
        "colab_type": "code",
        "colab": {
          "base_uri": "https://localhost:8080/",
          "height": 283
        },
        "outputId": "c43d02c0-185c-4b22-ea27-74f04f1e0e8b"
      },
      "source": [
        "df_usd_filter.prices_amountmin.hist(bins=100)"
      ],
      "execution_count": 26,
      "outputs": [
        {
          "output_type": "execute_result",
          "data": {
            "text/plain": [
              "<matplotlib.axes._subplots.AxesSubplot at 0x7fbe9d0639b0>"
            ]
          },
          "metadata": {
            "tags": []
          },
          "execution_count": 26
        },
        {
          "output_type": "display_data",
          "data": {
            "image/png": "[encoded data removed]",
            "text/plain": [
              "<Figure size 432x288 with 1 Axes>"
            ]
          },
          "metadata": {
            "tags": []
          }
        }
      ]
    },
    {
      "cell_type": "code",
      "metadata": {
        "id": "6GkCTFf7ltqH",
        "colab_type": "code",
        "colab": {
          "base_uri": "https://localhost:8080/",
          "height": 35
        },
        "outputId": "1eb4c808-1573-47f1-8d6b-f12faf0af3b3"
      },
      "source": [
        "ls matrix_one/day3.ipynb"
      ],
      "execution_count": 31,
      "outputs": [
        {
          "output_type": "stream",
          "text": [
            "matrix_one/day3.ipynb\n"
          ],
          "name": "stdout"
        }
      ]
    },
    {
      "cell_type": "code",
      "metadata": {
        "id": "rCR1SMGPzDqk",
        "colab_type": "code",
        "colab": {
          "base_uri": "https://localhost:8080/",
          "height": 35
        },
        "outputId": "7f2a88a0-659a-48ed-d2a1-215881c8e411"
      },
      "source": [
        "GIT_TOKEN='69faadfe4fa7b12b5541a0b81e2e2cc6b465fac9'\n",
        "GITHUB_URL='https://{0}@github.com/pmkruczek/dw_matrix.git'.format(GIT_TOKEN)\n",
        "!git clone {GITHUB_URL}"
      ],
      "execution_count": 70,
      "outputs": [
        {
          "output_type": "stream",
          "text": [
            "fatal: destination path 'dw_matrix' already exists and is not an empty directory.\n"
          ],
          "name": "stdout"
        }
      ]
    },
    {
      "cell_type": "code",
      "metadata": {
        "id": "KlCdpePHmZtn",
        "colab_type": "code",
        "colab": {}
      },
      "source": [
        "!git add matrix_one/day3.ipynb"
      ],
      "execution_count": 0,
      "outputs": []
    },
    {
      "cell_type": "code",
      "metadata": {
        "id": "VUhVNZN9mmeu",
        "colab_type": "code",
        "colab": {
          "base_uri": "https://localhost:8080/",
          "height": 71
        },
        "outputId": "dfb7f2c4-81b3-4d45-a934-6537803cec57"
      },
      "source": [
        "!git commit -m \"Read Men's Shoe Prices dataset from data.wordl\"\n"
      ],
      "execution_count": 66,
      "outputs": [
        {
          "output_type": "stream",
          "text": [
            "[master 61a7475] Read Men's Shoe Prices dataset from data.wordl\n",
            " 1 file changed, 1 insertion(+), 1 deletion(-)\n",
            " rewrite matrix_one/day3.ipynb (98%)\n"
          ],
          "name": "stdout"
        }
      ]
    },
    {
      "cell_type": "code",
      "metadata": {
        "id": "eGryD4Lvm9oS",
        "colab_type": "code",
        "colab": {}
      },
      "source": [
        "!git config --global user.email \"piotr.marek.kruczek@gmail.com\"\n",
        "!git config --global user.name \"Piotr\""
      ],
      "execution_count": 0,
      "outputs": []
    },
    {
      "cell_type": "code",
      "metadata": {
        "id": "k8TRPkUhnJgN",
        "colab_type": "code",
        "colab": {
          "base_uri": "https://localhost:8080/",
          "height": 35
        },
        "outputId": "06295aa4-5f45-4331-df21-0591d0640b79"
      },
      "source": [
        "!git push -u origin master"
      ],
      "execution_count": 69,
      "outputs": [
        {
          "output_type": "stream",
          "text": [
            "fatal: could not read Password for 'https://f74118fefe08d2b4caefd6a452da0c9fc4f0723e@github.com': No such device or address\n"
          ],
          "name": "stdout"
        }
      ]
    },
    {
      "cell_type": "code",
      "metadata": {
        "id": "DFPymMXZoIp8",
        "colab_type": "code",
        "colab": {}
      },
      "source": [
        "GIT_TOKEN='69faadfe4fa7b12b5541a0b81e2e2cc6b465fac9'\n",
        "GITHUB_URL='https://{0}@github.com/pmkruczek/dw_matrix.git'.format(GIT_TOKEN)\n",
        "!git clone {GITHUB_URL}"
      ],
      "execution_count": 0,
      "outputs": []
    },
    {
      "cell_type": "code",
      "metadata": {
        "id": "MqUB664tr_Ai",
        "colab_type": "code",
        "colab": {
          "base_uri": "https://localhost:8080/",
          "height": 35
        },
        "outputId": "a9228e8b-ec83-4bdf-eb69-73e67ecc00e1"
      },
      "source": [
        ""
      ],
      "execution_count": 68,
      "outputs": [
        {
          "output_type": "stream",
          "text": [
            "fatal: destination path 'dw_matrix' already exists and is not an empty directory.\n"
          ],
          "name": "stdout"
        }
      ]
    },
    {
      "cell_type": "code",
      "metadata": {
        "id": "t5mYrGSgsK--",
        "colab_type": "code",
        "colab": {
          "base_uri": "https://localhost:8080/",
          "height": 35
        },
        "outputId": "a29ab5b0-b0a1-4980-b7ce-ba19811e671f"
      },
      "source": [
        ""
      ],
      "execution_count": 59,
      "outputs": [
        {
          "output_type": "execute_result",
          "data": {
            "text/plain": [
              "'https://69faadfe4fa7b12b5541a0b81e2e2cc6b465fac9@github.com/pmkruczek/dw_matrix.git'"
            ]
          },
          "metadata": {
            "tags": []
          },
          "execution_count": 59
        }
      ]
    },
    {
      "cell_type": "code",
      "metadata": {
        "id": "XQO3JvlhuvsZ",
        "colab_type": "code",
        "colab": {}
      },
      "source": [
        ""
      ],
      "execution_count": 0,
      "outputs": []
    }
  ]
}