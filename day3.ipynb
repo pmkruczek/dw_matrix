{
  "nbformat": 4,
  "nbformat_minor": 0,
  "metadata": {
    "colab": {
      "name": "day3.ipynb",
      "provenance": [],
      "collapsed_sections": [],
      "mount_file_id": "1bBlK_kxXeS5LeKNUGd2s2ZnonLiGNwNf",
      "authorship_tag": "ABX9TyNApR8lj0GCvjcwTMCK8Rls",
      "include_colab_link": true
    },
    "kernelspec": {
      "name": "python3",
      "display_name": "Python 3"
    },
    "accelerator": "GPU"
  },
  "cells": [
    {
      "cell_type": "markdown",
      "metadata": {
        "id": "view-in-github",
        "colab_type": "text"
      },
      "source": [
        "<a href=\"https://colab.research.google.com/github/pmkruczek/dw_matrix/blob/master/day3.ipynb\" target=\"_parent\"><img src=\"https://colab.research.google.com/assets/colab-badge.svg\" alt=\"Open In Colab\"/></a>"
      ]
    },
    {
      "cell_type": "code",
      "metadata": {
        "id": "VOfriwRrw4u8",
        "colab_type": "code",
        "colab": {}
      },
      "source": [
        "import pandas as pd\n",
        "import numpy as np\n",
        "import tensorflow as tf\n",
        "from tensorflow.keras.models import Sequential\n",
        "from tensorflow.keras.layers import Conv2D, MaxPool2D, Dense, Flatten, Dropout\n",
        "from tensorflow.keras.utils import to_categorical\n",
        "\n",
        "%load_ext tensorboard"
      ],
      "execution_count": 0,
      "outputs": []
    },
    {
      "cell_type": "code",
      "metadata": {
        "id": "nAWxwc0vx7iS",
        "colab_type": "code",
        "outputId": "866f16dd-a27d-417a-fd03-9ac12c43f8e8",
        "colab": {
          "base_uri": "https://localhost:8080/",
          "height": 35
        }
      },
      "source": [
        "cd '/content/drive/My Drive/Colab Notebooks/matrix/matrix_tree/dw_matrix_road_sign'"
      ],
      "execution_count": 0,
      "outputs": [
        {
          "output_type": "stream",
          "text": [
            "/content/drive/My Drive/Colab Notebooks/matrix/matrix_tree/dw_matrix_road_sign\n"
          ],
          "name": "stdout"
        }
      ]
    },
    {
      "cell_type": "code",
      "metadata": {
        "id": "prZMfoK9yT1D",
        "colab_type": "code",
        "outputId": "267b5b99-1b63-497e-c4f3-f4631a90037d",
        "colab": {
          "base_uri": "https://localhost:8080/",
          "height": 35
        }
      },
      "source": [
        "ls"
      ],
      "execution_count": 0,
      "outputs": [
        {
          "output_type": "stream",
          "text": [
            "\u001b[0m\u001b[01;34mdata\u001b[0m/  LICENSE\n"
          ],
          "name": "stdout"
        }
      ]
    },
    {
      "cell_type": "code",
      "metadata": {
        "id": "qKi5KBhJyiSC",
        "colab_type": "code",
        "colab": {}
      },
      "source": [
        "train=pd.read_pickle('data/train.p')\n",
        "X_train,y_train=train['features'],train['labels']\n",
        "test=pd.read_pickle('data/test.p')\n",
        "X_test,y_test=test['features'],test['labels']"
      ],
      "execution_count": 0,
      "outputs": []
    },
    {
      "cell_type": "code",
      "metadata": {
        "id": "2Vg-eyt50KZa",
        "colab_type": "code",
        "outputId": "70914172-25f3-4051-fa63-71ca97b9da4c",
        "colab": {
          "base_uri": "https://localhost:8080/",
          "height": 35
        }
      },
      "source": [
        "len(np.unique(y_train))"
      ],
      "execution_count": 0,
      "outputs": [
        {
          "output_type": "execute_result",
          "data": {
            "text/plain": [
              "43"
            ]
          },
          "metadata": {
            "tags": []
          },
          "execution_count": 5
        }
      ]
    },
    {
      "cell_type": "code",
      "metadata": {
        "id": "m5n1AyT80X6B",
        "colab_type": "code",
        "colab": {}
      },
      "source": [
        "if y_train.ndim==1: y_train=to_categorical(y_train)\n",
        "if y_test.ndim==1: y_test=to_categorical(y_test)\n"
      ],
      "execution_count": 0,
      "outputs": []
    },
    {
      "cell_type": "code",
      "metadata": {
        "id": "MwpE7iYK08g5",
        "colab_type": "code",
        "colab": {}
      },
      "source": [
        "y_train.shape\n",
        "input_shape=X_train.shape[1:]\n",
        "num_classes=y_train.shape[1]"
      ],
      "execution_count": 0,
      "outputs": []
    },
    {
      "cell_type": "code",
      "metadata": {
        "id": "MM5dSksl2cwL",
        "colab_type": "code",
        "outputId": "16d36f6f-da8e-491a-a2a3-1c3c3bb20f9e",
        "colab": {
          "base_uri": "https://localhost:8080/",
          "height": 35
        }
      },
      "source": [
        "input_shape"
      ],
      "execution_count": 0,
      "outputs": [
        {
          "output_type": "execute_result",
          "data": {
            "text/plain": [
              "(32, 32, 3)"
            ]
          },
          "metadata": {
            "tags": []
          },
          "execution_count": 8
        }
      ]
    },
    {
      "cell_type": "code",
      "metadata": {
        "id": "dMkk4fve0-4J",
        "colab_type": "code",
        "colab": {}
      },
      "source": [
        "model=Sequential([\n",
        "     Conv2D(filters=64,kernel_size=(3,3,),activation='relu',input_shape=input_shape),\n",
        "     Flatten(),\n",
        "    Dense(num_classes,activation='softmax')\n",
        "])\n",
        "#model.summary()\n",
        "model.compile(loss='categorical_crossentropy',optimizer='Adam',metrics=['accuracy'])"
      ],
      "execution_count": 0,
      "outputs": []
    },
    {
      "cell_type": "code",
      "metadata": {
        "id": "6CMnVzcZ2IqD",
        "colab_type": "code",
        "outputId": "dd137827-147a-431b-c476-df56a9a174a7",
        "colab": {
          "base_uri": "https://localhost:8080/",
          "height": 53
        }
      },
      "source": [
        "model.fit(X_train,y_train)"
      ],
      "execution_count": 0,
      "outputs": [
        {
          "output_type": "stream",
          "text": [
            "1088/1088 [==============================] - 4s 4ms/step - loss: 10.7960 - accuracy: 0.7982\n"
          ],
          "name": "stdout"
        },
        {
          "output_type": "execute_result",
          "data": {
            "text/plain": [
              "<tensorflow.python.keras.callbacks.History at 0x7f2d4042d048>"
            ]
          },
          "metadata": {
            "tags": []
          },
          "execution_count": 10
        }
      ]
    },
    {
      "cell_type": "code",
      "metadata": {
        "id": "LXy0lYnj3Ilr",
        "colab_type": "code",
        "colab": {}
      },
      "source": [
        "def get_cnn_v1(input_shape,num_classes):\n",
        "  return Sequential([\n",
        "     Conv2D(filters=64,kernel_size=(3,3,),activation='relu',input_shape=input_shape),\n",
        "     Flatten(),\n",
        "    Dense(num_classes,activation='softmax')\n",
        "  ])\n",
        "\n",
        "def train_model(model,X_train,y_train,params_fit):\n",
        "      model.compile(loss='categorical_crossentropy',optimizer='Adam',metrics=['accuracy'])\n",
        "      model.fit(X_train,y_train)"
      ],
      "execution_count": 0,
      "outputs": []
    },
    {
      "cell_type": "code",
      "metadata": {
        "id": "gMdFgI2L4cJu",
        "colab_type": "code",
        "colab": {}
      },
      "source": [
        ""
      ],
      "execution_count": 0,
      "outputs": []
    },
    {
      "cell_type": "code",
      "metadata": {
        "id": "GNlSV-s_4cvz",
        "colab_type": "code",
        "outputId": "bb510d28-ea41-4701-b997-457cc79092f6",
        "colab": {
          "base_uri": "https://localhost:8080/",
          "height": 35
        }
      },
      "source": [
        "model=get_cnn_v1(input_shape,num_classes)\n",
        "train_model(model,X_train,y_train)"
      ],
      "execution_count": 0,
      "outputs": [
        {
          "output_type": "stream",
          "text": [
            "1088/1088 [==============================] - 4s 3ms/step - loss: 11.4147 - accuracy: 0.7840\n"
          ],
          "name": "stdout"
        }
      ]
    },
    {
      "cell_type": "code",
      "metadata": {
        "id": "iLIibBfN4lgp",
        "colab_type": "code",
        "colab": {}
      },
      "source": [
        ""
      ],
      "execution_count": 0,
      "outputs": []
    }
  ]
}